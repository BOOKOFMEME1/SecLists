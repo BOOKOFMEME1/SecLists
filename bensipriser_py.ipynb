{
  "nbformat": 4,
  "nbformat_minor": 0,
  "metadata": {
    "colab": {
      "provenance": [],
      "authorship_tag": "ABX9TyNmdvcEG2IrDvE48k6ySHvR",
      "include_colab_link": true
    },
    "kernelspec": {
      "name": "python3",
      "display_name": "Python 3"
    },
    "language_info": {
      "name": "python"
    }
  },
  "cells": [
    {
      "cell_type": "markdown",
      "metadata": {
        "id": "view-in-github",
        "colab_type": "text"
      },
      "source": [
        "<a href=\"https://colab.research.google.com/github/BOOKOFMEME1/SecLists/blob/master/bensipriser_py.ipynb\" target=\"_parent\"><img src=\"https://colab.research.google.com/assets/colab-badge.svg\" alt=\"Open In Colab\"/></a>"
      ]
    },
    {
      "cell_type": "code",
      "execution_count": 1,
      "metadata": {
        "colab": {
          "base_uri": "https://localhost:8080/"
        },
        "id": "C7vmPZE5x2rh",
        "outputId": "74d14524-d2ad-45ff-fef9-55f4e5bdd1cf"
      },
      "outputs": [
        {
          "output_type": "stream",
          "name": "stdout",
          "text": [
            "Lyckades hämta data!\n",
            "                                             Station   Pris\n",
            "0                      St1FinspångÖstermalmsvägen 25  16.64\n",
            "1                     PreemFinspångBergslagsvägen 77  16.74\n",
            "2                   TankaFinspångNorrköpingsvägen 28  16.74\n",
            "3                    OKQ8FinspångNorrköpingsvägen 26  16.89\n",
            "4  Circle KFinspångLeverstorpsvägen 2, 612 44 Fin...  16.89\n",
            "Billigaste station: St1FinspångÖstermalmsvägen 25, Pris: 16.64 kr\n",
            "Du sparar 14.80 kr om du tankar för 1000 kr på St1FinspångÖstermalmsvägen 25 istället för OKQ8FinspångNorrköpingsvägen 26\n",
            "Du sparar 14.80 kr om du tankar för 1000 kr på St1FinspångÖstermalmsvägen 25 istället för Circle KFinspångLeverstorpsvägen 2, 612 44 Finspång\n",
            "<pandas.io.formats.style.Styler object at 0x7bbe0d6e99c0>\n"
          ]
        }
      ],
      "source": [
        "import requests\n",
        "from bs4 import BeautifulSoup\n",
        "import pandas as pd\n",
        "import re\n",
        "\n",
        "# URL till bensinpriser för Finspång\n",
        "url = \"https://bensinpriser.nu/stationer/9/ostergotlands-lan/finspang\"\n",
        "\n",
        "# Headers för begäran\n",
        "headers = {\n",
        "    \"Cookie\": \"PHPSESSID=n6848mnmistcgsvkimafp15chl; FCCDCF=%5Bnull%2Cnull%2C%22null%22%5D\",\n",
        "    \"User-Agent\": \"Mozilla/5.0 (Windows NT 10.0; Win64; x64) AppleWebKit/537.36 (KHTML, like Gecko) Chrome/91.0.4472.124 Safari/537.36\",\n",
        "    \"Accept\": \"application/json\",\n",
        "    \"Content-Type\": \"application/json\",\n",
        "}\n",
        "money = 1000\n",
        "# Skicka GET-förfrågan\n",
        "response = requests.get(url, headers=headers)\n",
        "\n",
        "# Kontrollera statuskod och skriv ut svaret\n",
        "if response.status_code == 200:\n",
        "    print(\"Lyckades hämta data!\")\n",
        "    soup = BeautifulSoup(response.text, 'lxml')\n",
        "\n",
        "    # Hitta tabellen med bensinpriser\n",
        "    table = soup.find('table', {'id': 'price_table'})\n",
        "    if table:\n",
        "        rows = table.find_all('tr')\n",
        "        data = []\n",
        "        for row in rows[1:]:  # Hoppa över rubrikraden\n",
        "            columns = row.find_all('td')\n",
        "            if len(columns) > 1:\n",
        "                station = columns[0].get_text(strip=True)\n",
        "                price = columns[1].get_text(strip=True)\n",
        "                # Filtrera bort oönskade rader\n",
        "                if \"TIPS!\" not in station and \"Okänt\" not in price:\n",
        "                    # Extrahera endast det numeriska värdet från priset\n",
        "                    price_value = re.search(r'\\d+,\\d+', price).group().replace(',', '.')\n",
        "                    data.append({\"Station\": station, \"Pris\": price_value})\n",
        "\n",
        "        # Skapa DataFrame\n",
        "        df = pd.DataFrame(data)\n",
        "\n",
        "        # Konvertera pris till numeriskt värde för sortering\n",
        "        df['Pris'] = df['Pris'].astype(float)\n",
        "\n",
        "        # Sortera DataFrame efter pris\n",
        "        df = df.sort_values(by='Pris')\n",
        "\n",
        "        # Skriv ut DataFrame\n",
        "        print(df)\n",
        "\n",
        "        # Skriv ut den billigaste stationen\n",
        "        cheapest_station = df.iloc[0]\n",
        "        print(f\"Billigaste station: {cheapest_station['Station']}, Pris: {cheapest_station['Pris']} kr\")\n",
        "\n",
        "        # Beräkna besparingar\n",
        "        df['Besparing'] = df['Pris'] - cheapest_station['Pris']\n",
        "\n",
        "        # Skriv ut besparingar\n",
        "        for index, row in df.iterrows():\n",
        "            if row['Besparing'] > 0.10:  # Justera tröskelvärdet här\n",
        "                savings_100kr = (money / row['Pris']) * row['Besparing']\n",
        "                print(f\"Du sparar {savings_100kr:.2f} kr om du tankar för {money} kr på {cheapest_station['Station']} istället för {row['Station']}\")\n",
        "\n",
        "        # Formatera DataFrame med linjer som skiljer\n",
        "        df_styled = df.style.set_table_styles(\n",
        "            [{'selector': 'tr:hover',\n",
        "              'props': [('background-color', '#f5f5f5')]},\n",
        "             {'selector': 'th',\n",
        "              'props': [('border', '1px solid black')]},\n",
        "             {'selector': 'td',\n",
        "              'props': [('border', '1px solid black')]}]\n",
        "        )\n",
        "        print(df_styled)\n",
        "    else:\n",
        "        print(\"Kunde inte hitta prislistan.\")\n",
        "else:\n",
        "    print(f\"Fel: {response.status_code}\")\n",
        "    print(response.text)"
      ]
    }
  ]
}